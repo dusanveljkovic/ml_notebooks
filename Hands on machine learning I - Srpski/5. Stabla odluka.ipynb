{
 "cells": [
  {
   "cell_type": "markdown",
   "metadata": {},
   "source": [
    "# Stabla odluka"
   ]
  },
  {
   "cell_type": "code",
   "execution_count": 1,
   "metadata": {},
   "outputs": [
    {
     "data": {
      "text/plain": [
       "DecisionTreeClassifier(max_depth=2)"
      ]
     },
     "execution_count": 1,
     "metadata": {},
     "output_type": "execute_result"
    }
   ],
   "source": [
    "from sklearn.datasets import load_iris\n",
    "from sklearn.tree import DecisionTreeClassifier\n",
    "\n",
    "iris = load_iris()\n",
    "X = iris.data[:, 2:]\n",
    "y = iris.target\n",
    "\n",
    "tree_clf = DecisionTreeClassifier(max_depth=2)\n",
    "tree_clf.fit(X, y)"
   ]
  },
  {
   "cell_type": "code",
   "execution_count": 3,
   "metadata": {},
   "outputs": [],
   "source": [
    "from sklearn.tree import export_graphviz\n",
    "\n",
    "export_graphviz(\n",
    "  tree_clf,\n",
    "  out_file='iris_tree.dot',\n",
    "  feature_names=iris.feature_names[2:],\n",
    "  class_names=iris.target_names,\n",
    "  rounded=True,\n",
    "  filled=True\n",
    ")"
   ]
  },
  {
   "cell_type": "markdown",
   "metadata": {},
   "source": [
    "![Stablo odluke](../img/iris_tree.png)"
   ]
  },
  {
   "cell_type": "markdown",
   "metadata": {},
   "source": [
    "## Predvidjanja"
   ]
  },
  {
   "cell_type": "markdown",
   "metadata": {},
   "source": [
    "Vrednost atributa samples racuna na koliko se primera za obuku cvor primenjuje.<br>\n",
    "Atribut value govori nam na koliko se primera za obuku od svake klase ovaj cvor primenjuje.<br>\n",
    "Atribut gini cvora meri njegovu necistocu: cvor je cist ako svi primeri za obuku na na koje se cvor primenjuje pripadaju istoj klasi."
   ]
  },
  {
   "cell_type": "markdown",
   "metadata": {},
   "source": [
    "### Gini necistoca\n",
    "\n",
    "$G_i=1-\\sum_{k=1}^{n}p_{i,k}^2$<br>\n",
    "$p_{i,k}$ je udeo primera klase k u ukupnom broju primera za obuku u i-tom cvoru"
   ]
  },
  {
   "cell_type": "markdown",
   "metadata": {},
   "source": [
    "## Algoritam obuke CART"
   ]
  },
  {
   "cell_type": "markdown",
   "metadata": {},
   "source": [
    "Ovaj algoritam radi tako sto na osnovu odredjenog svojstva $k$ i praga $t_k$ prvo deli skup za obuku na dva skupa. K i $t_k$ bira tako sto trazi par koji prozivodi najcistije podskupove."
   ]
  },
  {
   "cell_type": "markdown",
   "metadata": {},
   "source": [
    "### Funkcija gubitka CART algoritma za klasifikaciju\n",
    "\n",
    "$J(k,t_k)=\\frac{m_{left}}{m}G_{left}+\\frac{m_{right}}{m}G_{right}$<br><br>\n",
    "$G_{left/right}$ -> necistoca levog/desnog podskupa<br>\n",
    "$m_{left/right}$ -> broj primera u levom/desnom podskupu"
   ]
  },
  {
   "cell_type": "markdown",
   "metadata": {},
   "source": [
    "Ovaj algoritam radi regukrzivno. Zaustavlja rekurziju kada dosegne maksimalnu dubinu ili ne uspe da nadje podelu koja bi smanjila necistocu"
   ]
  },
  {
   "cell_type": "markdown",
   "metadata": {},
   "source": [
    "## Gini necistoca ili entropija ?"
   ]
  },
  {
   "cell_type": "markdown",
   "metadata": {},
   "source": [
    "U masinskom ucenju entropija se cesto koristi kao mera necistoce: entropija jednog skupa je nula kada sadrzi primere samo jedne klase"
   ]
  },
  {
   "cell_type": "markdown",
   "metadata": {},
   "source": [
    "### Jednacina entropije\n",
    "\n",
    "$H_i=-\\sum_{k=1}^{n}p_{i,k}log_2(p_{i,k})$"
   ]
  },
  {
   "cell_type": "markdown",
   "metadata": {},
   "source": [
    "Razlika izmedju Gini necistoce i entropije je cesto zanemarljiva jer obe dovode do slicnih stabala."
   ]
  },
  {
   "cell_type": "markdown",
   "metadata": {},
   "source": [
    "## Hiperparametri regularizacije"
   ]
  },
  {
   "cell_type": "markdown",
   "metadata": {},
   "source": [
    "Stabla odluke nemaju ogranicen broj parametara kao na primer linearni modeli koji ima tacno odredjen broj parametara. Ovaj visok stepen slobode daje mogucnost stablima da se prekomerno uklope u podatke i lose generalizuju. <br>\n",
    "Najbitniji hiperparametar za regularizaciju je <b>max_depth</b>\n"
   ]
  },
  {
   "cell_type": "code",
   "execution_count": 14,
   "metadata": {},
   "outputs": [],
   "source": [
    "import matplotlib.pyplot as plt\n",
    "import numpy as np\n",
    "\n",
    "def plot_clf(model, X, y):\n",
    "  x_min, x_max = X[:, 0].min() - 1, X[:, 0].max() + 1\n",
    "  y_min, y_max = X[:, 1].min() - 1, X[:, 1].max() + 1\n",
    "  xx, yy = np.meshgrid(np.arange(x_min, x_max, 0.02),\n",
    "                      np.arange(y_min, y_max, 0.02))\n",
    "\n",
    "  Z = model.predict(np.c_[xx.ravel(), yy.ravel()])\n",
    "  Z = Z.reshape(xx.shape)\n",
    "  plt.contourf(xx, yy, Z, cmap=plt.cm.coolwarm, alpha=0.8)\n",
    "  plt.scatter(X[:, 0], X[:, 1], c=y, cmap=plt.cm.coolwarm)\n",
    "  "
   ]
  },
  {
   "cell_type": "code",
   "execution_count": 17,
   "metadata": {},
   "outputs": [
    {
     "data": {
      "image/png": "[encoded data removed]",
      "text/plain": [
       "<Figure size 432x288 with 1 Axes>"
      ]
     },
     "metadata": {
      "needs_background": "light"
     },
     "output_type": "display_data"
    }
   ],
   "source": [
    "import numpy as np\n",
    "from sklearn.datasets import make_moons\n",
    "from sklearn.tree import DecisionTreeClassifier\n",
    "\n",
    "X, y = make_moons(n_samples=100, noise=0.10)\n",
    "\n",
    "tree_clf = DecisionTreeClassifier(random_state=42)\n",
    "\n",
    "tree_clf.fit(X, y)\n",
    "\n",
    "plot_clf(tree_clf, X, y)"
   ]
  },
  {
   "cell_type": "markdown",
   "metadata": {},
   "source": [
    "## Regresija"
   ]
  },
  {
   "cell_type": "code",
   "execution_count": 18,
   "metadata": {},
   "outputs": [],
   "source": [
    "from sklearn.tree import DecisionTreeRegressor\n",
    "\n",
    "m = 100\n",
    "X = 6 * np.random.rand(m, 1) - 3\n",
    "y = 0.5 * X**2 + X + 2 + np.random.randn(m, 1)\n",
    "\n",
    "tree_reg = DecisionTreeRegressor(max_depth=2, random_state=42)\n",
    "tree_reg.fit(X, y)\n",
    "\n",
    "export_graphviz(\n",
    "  tree_reg,\n",
    "  out_file='X^2.dot',\n",
    "  rounded=True,\n",
    "  filled=True\n",
    ")"
   ]
  },
  {
   "cell_type": "markdown",
   "metadata": {},
   "source": [
    "![Decision tree regressor on x^2](../img/x^2_tree.png)"
   ]
  }
 ],
 "metadata": {
  "interpreter": {
   "hash": "eed8ddd848e855132c535757d23bf43dc6b9b25110162aa7f159b14175251349"
  },
  "kernelspec": {
   "display_name": "Python 3.10.2 ('ml_env': venv)",
   "language": "python",
   "name": "python3"
  },
  "language_info": {
   "codemirror_mode": {
    "name": "ipython",
    "version": 3
   },
   "file_extension": ".py",
   "mimetype": "text/x-python",
   "name": "python",
   "nbconvert_exporter": "python",
   "pygments_lexer": "ipython3",
   "version": "3.10.2"
  },
  "orig_nbformat": 4
 },
 "nbformat": 4,
 "nbformat_minor": 2
}
