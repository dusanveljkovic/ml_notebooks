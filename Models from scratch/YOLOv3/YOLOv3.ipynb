{
 "cells": [
  {
   "cell_type": "markdown",
   "metadata": {},
   "source": [
    "# YOLOv3"
   ]
  },
  {
   "cell_type": "markdown",
   "metadata": {},
   "source": [
    "Source: https://machinelearningspace.com/yolov3-tensorflow-2-part-1/"
   ]
  },
  {
   "cell_type": "markdown",
   "metadata": {},
   "source": [
    "## Arhitektura"
   ]
  },
  {
   "cell_type": "markdown",
   "metadata": {},
   "source": [
    "YOLOv3 je sacinjen od 53 sloja nazvanim Darknet-53."
   ]
  },
  {
   "cell_type": "markdown",
   "metadata": {},
   "source": [
    "<figure style=\"display: inline-block\">\n",
    "  <img src=\"img/yolo_structure.png\" width=\"400\" height=\"500\">\n",
    "  <figcaption style=\"text-align: center\"></figcaption>\n",
    "</figure>"
   ]
  },
  {
   "cell_type": "markdown",
   "metadata": {},
   "source": [
    "## Princip rada"
   ]
  },
  {
   "cell_type": "markdown",
   "metadata": {},
   "source": [
    "YOLOv3 secka sliku na SxS resetku i predvidja granicne okvire i verovatnocu klase za svaku resetku. Za svaku resetku se predvidja B granicnih okvira i C verovatnoca klase za objekte <b>ciji se centar nalazi u resetci</b>. Svaka resetka ima (5 + C) atributa. Broj 5 predstavlja atribute granicnog okvira a to su: koordinate centra $(b_x,b_y)$ i oblik $(b_h, b_w)$ granicnog okvira i objektnost. Vrednost C je broj klasa. Objektnost predstavlja koliko je model siguran da okvir sadrzi objekat.<br>\n",
    "YOLOv3 kreira 3D tensor oblika [S, S, B * (5 + C)]."
   ]
  },
  {
   "cell_type": "markdown",
   "metadata": {},
   "source": [
    "<figure style=\"display: inline-block\">\n",
    "  <img src=\"img/yolo_work.png\" width=\"800\" height=\"700\">\n",
    "  <figcaption style=\"text-align: center\"></figcaption>\n",
    "</figure>"
   ]
  },
  {
   "cell_type": "markdown",
   "metadata": {},
   "source": [
    "## Anchor Box algoritam"
   ]
  },
  {
   "cell_type": "markdown",
   "metadata": {},
   "source": [
    "Problem koji zelimo da resimo je kada se u resetci nalazi vise od jednog centra objekta. To znaci da imamo vise objekta koji se preklapaju. Da bi prevazisao ovaj problem YOLOv3 koristi 3 drugacija anchor boxa za svaku skalu detekcije."
   ]
  },
  {
   "cell_type": "markdown",
   "metadata": {},
   "source": [
    "Anchor boxovi su set predefinisanih granicnih okvira odredjene visine i sirine koje koristimo da modelujemo drugaciju skalu i ascept ratio objekata koje zelimo da detektujemo."
   ]
  },
  {
   "cell_type": "markdown",
   "metadata": {},
   "source": [
    "## Predvidjanje kroz druge skale"
   ]
  },
  {
   "cell_type": "markdown",
   "metadata": {},
   "source": [
    "YOLOv3 pravi detekcije u 3 drugacije skale da bi se prilagodio drugacijim velicima objekta tako sto koristi korake od 32, 16 i 8. To znaci da kada bi uneli sliku rezolucije 416x416, YOLOv3 bi pravio detekcija na velicinama 13x13, 26x26 i 52x52. "
   ]
  },
  {
   "cell_type": "markdown",
   "metadata": {},
   "source": [
    "<figure style=\"display: inline-block\">\n",
    "  <img src=\"img/yolo_scaling.png\" width=\"800\" height=\"600\">\n",
    "  <figcaption style=\"text-align: center\"></figcaption>\n",
    "</figure>"
   ]
  },
  {
   "cell_type": "markdown",
   "metadata": {},
   "source": [
    "## Predvidjanje granicnih okvira"
   ]
  },
  {
   "cell_type": "markdown",
   "metadata": {},
   "source": [
    "Za svaki granicni okvir, YOLO predvidja 3 koordinate $t_x, t_y, t_w, t_h$.Vrednosti| $t_x, t_y$ su koordinate centra granicnog okvira relativno na resetku gde se centar nalazi, $t_w, t_h$ su sirina i visina okvira."
   ]
  },
  {
   "cell_type": "markdown",
   "metadata": {},
   "source": [
    "Konacno predvidjanje okvira se dobija preko formule:"
   ]
  },
  {
   "cell_type": "markdown",
   "metadata": {},
   "source": [
    "$b_x = \\sigma(t_x) + c_x$ <br>\n",
    "$b_y = \\sigma(t_y) + c_y$ <br>\n",
    "$b_w = p_w*e^{t_w}$ <br>\n",
    "$b_h = p_h*e^{t_h}$"
   ]
  },
  {
   "cell_type": "markdown",
   "metadata": {},
   "source": [
    "Vrednosti $p_w, p_h$ su sirina i visina anchor boxa, a $c_x, c_y$ koordinate resetke."
   ]
  },
  {
   "cell_type": "markdown",
   "metadata": {},
   "source": [
    "## Odbacivanje ne maksimalnih"
   ]
  },
  {
   "cell_type": "markdown",
   "metadata": {},
   "source": [
    "1. Na izlaz CNN se dodaje dopunska objektnost koja mora koristiti sigmoidnu funkciju i gubitak binarna unakrsna entropija. Zatim se odbacuju svi granicni okviri cija vrednost objektnost je manja od odredjenog praga: tako ce nestati svi granicni okviri koji ne sadrze cvetove.\n",
    "2. Nadje se granicni okvir sa najvisom vrednoscui ovjektnosti i odbace se svi drugi granicni okviri koji se znacajno prekrivaju sa njim (IoU > 60%).\n",
    "3. Korak 2 se ponavlja sve dok vise ne bude granicnih okvira za odbacivanje"
   ]
  },
  {
   "cell_type": "markdown",
   "metadata": {},
   "source": [
    "## Implementacija"
   ]
  },
  {
   "cell_type": "markdown",
   "metadata": {},
   "source": [
    "Implementiranje Darkneta i dodavanje YOLO dela mreze je jednostavno do NMS i bounding box dela. Arhitektura cele mreze je sumirana u sledece dve slike, a NMS i bounding box cu pokusati da objasnim."
   ]
  },
  {
   "cell_type": "markdown",
   "metadata": {},
   "source": [
    "<figure style=\"display: inline-block\">\n",
    "  <img src=\"img/darknet_structure.png\" width=\"500\" height=\"350\">\n",
    "  <figcaption style=\"text-align: center\"></figcaption>\n",
    "</figure>\n",
    "<figure style=\"display: inline-block\">\n",
    "  <img src=\"img/yolo_architecture.png\" width=\"800\" height=\"350\">\n",
    "  <figcaption style=\"text-align: center\"></figcaption>\n",
    "</figure>"
   ]
  },
  {
   "cell_type": "markdown",
   "metadata": {},
   "source": [
    "Prva funkcija odredjuje bounding boxove za predikcije mreze, to jest dekodira predikcije mreze."
   ]
  },
  {
   "cell_type": "code",
   "execution_count": null,
   "metadata": {},
   "outputs": [],
   "source": [
    "import tensorflow as tf\n",
    "\n",
    "def yolo_boxes(pred, anchors, classes):\n",
    "  # uzimamo vrednosti iz predikcije koja je oblika\n",
    "  # [[box_x, box_y, box_w, box_h, objectness, class_probs...],\n",
    "  # [box_x, box_y, box_w, box_h, objectness, class_probs...]...]\n",
    "  # axis=-1 znaci da zelimo poslednju dimenziju u ovom slucaju po redovima\n",
    "  grid_size = tf.shape(pred)[1:3]\n",
    "  box_xy, box_wh, objectness, class_probs = tf.split(\n",
    "    pred, (2, 2, 1, classes), axis=-1\n",
    "  )\n",
    "  \n",
    "  # koristimo sigmoidnu funkciju na svakoj vrednosti da bi je skalirali\n",
    "  # u opsed od 0 do 1\n",
    "  # posle ovog koraka imamo koordinate centra relativno na resetku\n",
    "  box_xy = tf.sigmoid(box_xy)\n",
    "  objectness = tf.sigmoid(objectness)\n",
    "  class_probs = tf.sigmoid(class_probs)\n",
    "  pred_box = tf.concat((box_xy, box_wh), axis=-1)\n",
    "  \n",
    "  # funkcija meshgrid vraca tensor kooridnata resetke gde mozemo videti\n",
    "  # koordinate resetke (i,j) indeksiranjem\n",
    "  grid = tf.meshgrid(tf.range(grid_size[1]), tf.range(grid_size[0]))\n",
    "  grid = tf.expand_dims(tf.stack(grid, axis=-1), axis=2) # [gx, gy, 1, 2]\n",
    "  \n",
    "  # svim koordinatama dodajemo koordinate resetke gde se nalaze\n",
    "  # i tako dobijamo koordinate kutije relativno na gornji levi ugao, tj. pocetak\n",
    "  box_xy = (box_xy + tf.cast(grid, tf.float32)) / \\\n",
    "    tf.cast(grid_size, tf.float32)\n",
    "    \n",
    "  # kalkulisemo sirine i visine svih granicnih kutija\n",
    "  box_wh = tf.exp(box_wh) * anchors\n",
    "    \n",
    "  # da bismo dobili koordinate levog gornjeg i donjeg desnog ugla\n",
    "  # radimo sledece kalkulacije\n",
    "  box_x1y1 = box_xy - box_wh / 2\n",
    "  box_x2y2 = box_xy + box_wh / 2\n",
    "  bbox = tf.concat([box_x1y1, box_x2y2], axis=-1)\n",
    "  \n",
    "  return bbox, objectness, class_probs, pred_box"
   ]
  },
  {
   "cell_type": "code",
   "execution_count": null,
   "metadata": {},
   "outputs": [],
   "source": [
    "def yolo_nms(outputs, anchors, masks, classes):\n",
    "  # prvi korak je da spojimo sve vrednosti koje se nalaze na izlazu mreze\n",
    "  b, c, t = [], [], []\n",
    "  \n",
    "  for o in outputs:\n",
    "    b.append(tf.reshape(o[0], (tf.shape(o[0])[0], -1, tf.shape(o[0])[-1])))\n",
    "    c.append(tf.reshape(o[1], (tf.shape(o[1])[0], -1, tf.shape(o[1])[-1])))\n",
    "    t.append(tf.reshape(o[2], (tf.shape(o[2])[0], -1, tf.shape(o[2])[-1])))\n",
    "    \n",
    "  bbox = tf.concat(b, axis=1)\n",
    "  confidence = tf.concat(c, axis=1)\n",
    "  class_probs = tf.concat(t, axis=1) \n",
    "    \n",
    "  if classes == 1:\n",
    "    scores = confidence\n",
    "  else:\n",
    "    scores = confidence * class_probs\n",
    "    \n",
    "  dscores = tf.squeeze(scores, axis=0)\n",
    "  scores = tf.reduce_max(dscores, [1])\n",
    "  bbox = tf.reshape(bbox, (-1, 4))\n",
    "  classes = tf.argmax(dscores, 1)\n",
    "  selected_indicies, selected_scores = tf.image.non_max_suppression_with_scores(\n",
    "    boxes=bbox,\n",
    "    scores=scores,\n",
    "    max_output_size=max_boxes,\n",
    "    iou_threshold=iou_threshold,\n",
    "    score_threshold=score_threshold,\n",
    "    soft_nms_sigma=0.5\n",
    "  ) \n",
    "  \n",
    "  num_valid_nms_boxes = tf.shape(selected_indicies)[0]\n",
    "  \n",
    "  selected_indicies = tf.concat([selected_indicies, tf.zeros(max_boxes - num_valid_nms_boxes, tf.int32)], 0)\n",
    "  selected_scores = tf.concat([selected_scores, tf.zeros(max_boxes - num_valid_nms_boxes, tf.float32)], -1)\n",
    "\n",
    "  boxes = tf.gather(bbox, selected_indicies)\n",
    "  boxes = tf.expand_dims(boxes, axis=0)\n",
    "  scores = selected_scores\n",
    "  scores = tf.expand_dims(scores, axis=0)\n",
    "  classes = tf.gather(classes, selected_indicies)\n",
    "  classes = tf.expand_dims(classes, axis=0)\n",
    "  valid_detections = num_valid_nms_boxes \n",
    "  valid_detections = tf.expand_dims(valid_detections, axis=0)\n",
    "  \n",
    "  return boxes, scores, classes, valid_detections   "
   ]
  }
 ],
 "metadata": {
  "interpreter": {
   "hash": "eed8ddd848e855132c535757d23bf43dc6b9b25110162aa7f159b14175251349"
  },
  "kernelspec": {
   "display_name": "Python 3.10.2 ('ml_env': venv)",
   "language": "python",
   "name": "python3"
  },
  "language_info": {
   "codemirror_mode": {
    "name": "ipython",
    "version": 3
   },
   "file_extension": ".py",
   "mimetype": "text/x-python",
   "name": "python",
   "nbconvert_exporter": "python",
   "pygments_lexer": "ipython3",
   "version": "3.10.2"
  },
  "orig_nbformat": 4
 },
 "nbformat": 4,
 "nbformat_minor": 2
}
